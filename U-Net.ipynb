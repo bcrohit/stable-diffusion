{
 "cells": [
  {
   "cell_type": "code",
   "execution_count": 12,
   "id": "7851d0c7-1aa7-45c5-828b-c34b800cc107",
   "metadata": {},
   "outputs": [],
   "source": [
    "import torch\n",
    "import torch.nn as nn\n",
    "import torch.optim as optim\n",
    "\n",
    "import torchvision\n",
    "from torchvision import transforms\n",
    "import numpy as np"
   ]
  },
  {
   "cell_type": "code",
   "execution_count": 13,
   "id": "901f53a9-2c78-4f15-bfdc-753aa61b5b41",
   "metadata": {},
   "outputs": [],
   "source": [
    "class AddNormalNoise:\n",
    "    def __init__(self, mean=0, std=1):\n",
    "        self.mean = mean\n",
    "        self.std = std\n",
    "\n",
    "    def __call__(self, tensor):\n",
    "        return tensor + torch.randn(tensor.shape) * self.std + self.mean\n",
    "\n",
    "    def __repr__(self):\n",
    "        return self.__class__.__name__ + f\"(mean={self.mean}, std={self.std})\""
   ]
  },
  {
   "cell_type": "code",
   "execution_count": 18,
   "id": "ce5dfbd7-b304-4d71-b526-ea0c32638b44",
   "metadata": {},
   "outputs": [],
   "source": [
    "batch_size = 64\n",
    "\n",
    "data_transforms = transforms.Compose([\n",
    "    transforms.ToTensor(),\n",
    "    transforms.Lambda(lambda t: (t * 2) - 1)  # Scale between [-1, 1]\n",
    "])\n",
    "\n",
    "data_transform = transforms.Compose(data_transforms)\n",
    "train_set = torchvision.datasets.FashionMNIST(\"data\", download=True, train=True, transform=data_transforms)\n",
    "test_set = torchvision.datasets.FashionMNIST(\"data\", download=True, train=False, transform=data_transforms)\n",
    "data = torch.utils.data.ConcatDataset([train_set, test_set])\n",
    "\n",
    "dataloader = torch.utils.data.DataLoader(data, batch_size=batch_size, shuffle=True, drop_last=True)"
   ]
  },
  {
   "cell_type": "code",
   "execution_count": null,
   "id": "0434783c-6251-4750-b23f-37dc6fc1282a",
   "metadata": {},
   "outputs": [],
   "source": []
  }
 ],
 "metadata": {
  "kernelspec": {
   "display_name": "Python 3 (ipykernel)",
   "language": "python",
   "name": "python3"
  },
  "language_info": {
   "codemirror_mode": {
    "name": "ipython",
    "version": 3
   },
   "file_extension": ".py",
   "mimetype": "text/x-python",
   "name": "python",
   "nbconvert_exporter": "python",
   "pygments_lexer": "ipython3",
   "version": "3.10.11"
  }
 },
 "nbformat": 4,
 "nbformat_minor": 5
}
