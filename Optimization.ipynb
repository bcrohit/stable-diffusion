{
 "cells": [
  {
   "cell_type": "code",
   "execution_count": null,
   "id": "5f6c3c6e-81f6-4069-a78a-4c330d74848c",
   "metadata": {},
   "outputs": [],
   "source": []
  }
 ],
 "metadata": {
  "kernelspec": {
   "display_name": "",
   "name": ""
  },
  "language_info": {
   "name": ""
  }
 },
 "nbformat": 4,
 "nbformat_minor": 5
}
